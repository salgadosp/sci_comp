{
 "cells": [
  {
   "cell_type": "markdown",
   "metadata": {},
   "source": [
    "# Métodos Numéricos"
   ]
  },
  {
   "cell_type": "markdown",
   "metadata": {},
   "source": [
    "## Raízes de Equações"
   ]
  },
  {
   "cell_type": "markdown",
   "metadata": {},
   "source": [
    "#### Método da bissecção"
   ]
  },
  {
   "cell_type": "code",
   "execution_count": 3,
   "metadata": {},
   "outputs": [],
   "source": [
    "import sympy\n",
    "x = sympy.symbols('x')"
   ]
  },
  {
   "cell_type": "code",
   "execution_count": 174,
   "metadata": {},
   "outputs": [],
   "source": [
    "def bissection_method(expr, interval, var=x, precision=10**(-5)):\n",
    "    \n",
    "    a = interval[0]\n",
    "    b = interval[1]\n",
    "    \n",
    "    while (b-a > precision):\n",
    "        xbar = (b+a)/2\n",
    "        print([a, b])\n",
    "        \n",
    "        if expr.subs(var, a)*expr.subs(var, xbar) > 0:\n",
    "            a = xbar\n",
    "        else:\n",
    "            b = xbar\n",
    "\n",
    "    return (b+a)/2"
   ]
  },
  {
   "cell_type": "code",
   "execution_count": 4,
   "metadata": {},
   "outputs": [
    {
     "ename": "NameError",
     "evalue": "name 'bissection_method' is not defined",
     "output_type": "error",
     "traceback": [
      "\u001b[0;31m---------------------------------------------------------------------------\u001b[0m",
      "\u001b[0;31mNameError\u001b[0m                                 Traceback (most recent call last)",
      "Cell \u001b[0;32mIn[4], line 2\u001b[0m\n\u001b[1;32m      1\u001b[0m expr \u001b[38;5;241m=\u001b[39m x\u001b[38;5;241m*\u001b[39m\u001b[38;5;241m*\u001b[39m\u001b[38;5;241m3\u001b[39m\u001b[38;5;241m+\u001b[39m\u001b[38;5;241m9\u001b[39m\u001b[38;5;241m*\u001b[39mx\u001b[38;5;241m-\u001b[39m\u001b[38;5;241m15\u001b[39m\n\u001b[0;32m----> 2\u001b[0m \u001b[43mbissection_method\u001b[49m(expr, [\u001b[38;5;241m-\u001b[39m\u001b[38;5;241m100\u001b[39m, \u001b[38;5;241m100\u001b[39m])\n",
      "\u001b[0;31mNameError\u001b[0m: name 'bissection_method' is not defined"
     ]
    }
   ],
   "source": [
    "expr = x**3+9*x-15\n",
    "bissection_method(expr, [-100, 100])"
   ]
  },
  {
   "cell_type": "markdown",
   "metadata": {},
   "source": [
    "#### Método da Falsa Posição; \n",
    "#### Método do Ponto Fixo"
   ]
  },
  {
   "cell_type": "markdown",
   "metadata": {},
   "source": [
    "#### Método de Newton-Raphson"
   ]
  },
  {
   "cell_type": "code",
   "execution_count": 204,
   "metadata": {},
   "outputs": [],
   "source": [
    "def newton_raphson_method(expr, approx, var=x, precision=10**(-5)):\n",
    "    \n",
    "    xk = approx\n",
    "    while abs(expr.subs(var, xk)) > precision:\n",
    "        print(float(xk))\n",
    "        xk = xk - expr.subs(var, xk)/diff(expr, var).subs(var, xk)\n",
    "        \n",
    "    return float(xk)\n"
   ]
  },
  {
   "cell_type": "code",
   "execution_count": 202,
   "metadata": {},
   "outputs": [],
   "source": [
    "diff = sympy.diff"
   ]
  },
  {
   "cell_type": "code",
   "execution_count": null,
   "metadata": {},
   "outputs": [
    {
     "name": "stdout",
     "output_type": "stream",
     "text": [
      "50.0\n",
      "33.29537887867892\n",
      "22.141511065160724\n",
      "14.68136561316309\n",
      "9.676098842867464\n",
      "6.302200431140828\n",
      "4.023451857939263\n",
      "2.523510455912134\n",
      "1.6773210485297496\n",
      "1.4012422487358414\n",
      "1.3768983639223908\n"
     ]
    }
   ],
   "source": [
    "newton_raphson_method(expr, 50)"
   ]
  },
  {
   "cell_type": "markdown",
   "metadata": {},
   "source": [
    "#### Método da Secante"
   ]
  },
  {
   "cell_type": "code",
   "execution_count": 22,
   "metadata": {},
   "outputs": [],
   "source": [
    "def secant_method(expr, approx1, approx2, var=x, precision=1e-5):\n",
    "    xk = approx1\n",
    "    xk1 = approx2\n",
    "    \n",
    "    while abs(float(expr.subs(var, xk1))) > precision:\n",
    "        print(float(xk), float(xk1))\n",
    "        xk2 = xk1 - float(expr.subs(var, xk1))/ float((expr.subs(var, xk1) - expr.subs(var, xk)))*float((xk1 - xk))\n",
    "        \n",
    "        xk, xk1 = xk1, xk2\n",
    "    \n",
    "    return float(xk1)"
   ]
  },
  {
   "cell_type": "code",
   "execution_count": 23,
   "metadata": {},
   "outputs": [
    {
     "data": {
      "text/plain": [
       "True"
      ]
     },
     "execution_count": 23,
     "metadata": {},
     "output_type": "execute_result"
    }
   ],
   "source": [
    "float(expr.subs(x, 1.3930661854277955)) > 1e-5"
   ]
  },
  {
   "cell_type": "code",
   "execution_count": 24,
   "metadata": {},
   "outputs": [
    {
     "name": "stdout",
     "output_type": "stream",
     "text": [
      "50.0 25.0\n",
      "25.0 21.38800182481752\n",
      "21.38800182481752 15.262255973132543\n",
      "15.262255973132543 11.67729567972283\n",
      "11.67729567972283 8.654205560088226\n",
      "8.654205560088226 6.441258497107899\n",
      "6.441258497107899 4.7285685273812685\n",
      "4.7285685273812685 3.4383873137190903\n",
      "3.4383873137190903 2.4862447816422715\n",
      "2.4862447816422715 1.8464965313353834\n",
      "1.8464965313353834 1.5050999047915918\n",
      "1.5050999047915918 1.3930661854277955\n",
      "1.3930661854277955 1.3773155651586961\n",
      "1.3773155651586961 1.3767324126077713\n"
     ]
    },
    {
     "data": {
      "text/plain": [
       "1.376729723335881"
      ]
     },
     "execution_count": 24,
     "metadata": {},
     "output_type": "execute_result"
    }
   ],
   "source": [
    "secant_method(expr, 50, 25)"
   ]
  },
  {
   "cell_type": "markdown",
   "metadata": {},
   "source": [
    "## Resolução de Sistemas Lineares"
   ]
  },
  {
   "cell_type": "markdown",
   "metadata": {},
   "source": [
    "#### Método da eliminação Gaussiana"
   ]
  },
  {
   "cell_type": "markdown",
   "metadata": {},
   "source": [
    "#### Método da fatoração LU"
   ]
  },
  {
   "cell_type": "markdown",
   "metadata": {},
   "source": [
    "#### Método da Fatoração de Cholesky"
   ]
  },
  {
   "cell_type": "markdown",
   "metadata": {},
   "source": [
    "#### Método de Gauss-Jacobi"
   ]
  },
  {
   "cell_type": "code",
   "execution_count": 165,
   "metadata": {},
   "outputs": [],
   "source": [
    "precision = 1e-5\n",
    "\n",
    "import numpy as np\n",
    "\n",
    "coefs = np.array([[10, 2, 1],\n",
    "                    [1, 5, 1], \n",
    "                    [2, 3, 10]])\n",
    "\n",
    "constants = [7, -8, 6]\n",
    "\n",
    "approx = [0, 0, 0]\n",
    "\n",
    "\n",
    "def GaussSeidel(coefs, constants, approx, precision=1e-5):\n",
    "    n = coefs.shape[0]\n",
    "    diff = [2*precision for i in range(0, n)]\n",
    "    \n",
    "    while max(diff) >= abs(precision):\n",
    "        for i in range (0, n):\n",
    "            diff[i] = approx[i]\n",
    "            approx[i] = (constants[i]-sum([approx[j]*coefs[i, j] for j in range(0, n) if j!=i]))/coefs[i, i]\n",
    "            diff[i] = abs(approx[i] - diff[i])\n",
    "\n",
    "    return approx\n"
   ]
  },
  {
   "cell_type": "code",
   "execution_count": 166,
   "metadata": {},
   "outputs": [],
   "source": [
    "def GaussJacobi(coefs, constants, approx, precision=1e-5):\n",
    "    n = coefs.shape[0]\n",
    "    diff = [2*precision for i in range(0, n)]\n",
    "    \n",
    "    while max(diff) >= abs(precision):\n",
    "        prev_iter = approx.copy()\n",
    "        \n",
    "        for i in range (0, n):\n",
    "            approx[i] = (constants[i]-sum([prev_iter[j]*coefs[i, j] for j in range(0, n) if j!=i]))/coefs[i, i]\n",
    "            diff[i] = abs(approx[i] - prev_iter[i])        \n",
    "    \n",
    "    return approx"
   ]
  },
  {
   "cell_type": "code",
   "execution_count": 168,
   "metadata": {},
   "outputs": [
    {
     "data": {
      "text/plain": [
       "[0.9205298013314351,\n",
       " -0.08609271520263295,\n",
       " 0.6953642384189717,\n",
       " 1.9867549669139741]"
      ]
     },
     "execution_count": 168,
     "metadata": {},
     "output_type": "execute_result"
    }
   ],
   "source": [
    "coefs = np.array([[4, 1, 2, -1], \n",
    "              [3, 5, 1, 2], \n",
    "              [2, -1, 3, 1], \n",
    "              [1, 2, -1, 4]])\n",
    "\n",
    "constants = [3, 7, 6, 8]\n",
    "\n",
    "approx = [0, 0, 0, 0]\n",
    "\n",
    "function(coefs, constants, approx, precision=1e-10)"
   ]
  },
  {
   "cell_type": "markdown",
   "metadata": {},
   "source": [
    "#### Método de Gauss-Seidel"
   ]
  },
  {
   "cell_type": "code",
   "execution_count": 5,
   "metadata": {},
   "outputs": [],
   "source": [
    "def function(x, y):\n",
    "\n",
    "    h = []\n",
    "\n",
    "    n = len(x)\n",
    "\n",
    "\n",
    "\n",
    "    for i in range(0, n-1):\n",
    "\n",
    "        h.append(x[i+1] - x[i])\n",
    "\n",
    "\n",
    "\n",
    "    A = np.zeros((n-2, n-2))\n",
    "\n",
    "\n",
    "\n",
    "    for i in range(0, n-2):\n",
    "\n",
    "        for j in range(0, n-2):\n",
    "\n",
    "            \n",
    "\n",
    "            if j == i-1:\n",
    "\n",
    "                A[i, j] = h[i]\n",
    "\n",
    "            elif j == i:\n",
    "\n",
    "                A[i, j] = 2*(h[i] + h[i+1])\n",
    "\n",
    "            elif j == i+1:\n",
    "\n",
    "                A[i, j] = h[i+1]\n",
    "\n",
    "            else:\n",
    "\n",
    "                A[i , j] = 0 \n",
    "\n",
    "                \n",
    "\n",
    "    B = np.zeros((n-2, 1))\n",
    "\n",
    "\n",
    "\n",
    "    for i in range (0, n-2):\n",
    "\n",
    "        #B[i, 0] = 6*(y[i+2] - 2*y[i+1] + y[i])/(h[i])\n",
    "\n",
    "        B[i, 0] = 6/(x[i+2]-x[i+1])*(y[i+2]-y[i+1]) + 6/(x[i+2]-x[i+1])*(y[i]-y[i+1])\n",
    "\n",
    "\n",
    "\n",
    "    g = np.zeros((n, 1))\n",
    "\n",
    "    g[1:-1] = np.linalg.solve(A, B)\n",
    "\n",
    "\n",
    "\n",
    "    a = []\n",
    "\n",
    "    b = []\n",
    "\n",
    "    c = []\n",
    "\n",
    "    d = []\n",
    "\n",
    "\n",
    "\n",
    "    for i in range(0, n-1): \n",
    "\n",
    "        \n",
    "\n",
    "        #print(g[i, 0])\n",
    "\n",
    "        ai = (g[i, 0]-g[i-1,0])/(6*h[i]) \n",
    "\n",
    "        bi = g[i, 0]/2 \n",
    "\n",
    "        ci = ((y[i] - y[i-1])/h[i] + (2*h[i]*g[i, 0] + g[i-1, 0]*h[i])/6)\n",
    "\n",
    "        di = y[i]\n",
    "\n",
    "        #print(y[i])\n",
    "\n",
    "        \n",
    "\n",
    "        a.append(ai)\n",
    "\n",
    "        b.append(bi)\n",
    "\n",
    "        c.append(ci)\n",
    "\n",
    "        d.append(di)\n",
    "\n",
    "\n",
    "\n",
    "\n",
    "\n",
    "    ak = (0-g[n-2,0])/(6*h[n-2])\n",
    "\n",
    "    bk = 0\n",
    "\n",
    "    ck = (y[n-1] - y[n-2])/h[n-2] + (0 + g[n-2, 0]*h[n-2])/6\n",
    "\n",
    "    dk = y[n-1]\n",
    "\n",
    "\n",
    "\n",
    "    a.append(ak)\n",
    "\n",
    "    b.append(bk)\n",
    "\n",
    "    c.append(ck)\n",
    "\n",
    "    d.append(dk)\n",
    "\n",
    "        \n",
    "\n",
    "    s = []\n",
    "\n",
    "\n",
    "\n",
    "    sx = sympy.symbols('x')\n",
    "\n",
    "\n",
    "\n",
    "    for i in range(1, n):\n",
    "\n",
    "        print(i)\n",
    "\n",
    "        si = a[i]*(sx-x[i])**3 + b[i]*(sx-x[i])**2 + c[i]*(sx-x[i]) + d[i]\n",
    "\n",
    "        s.append(si)\n",
    "\n",
    "\n",
    "\n",
    "    return s"
   ]
  },
  {
   "cell_type": "code",
   "execution_count": null,
   "metadata": {},
   "outputs": [],
   "source": [
    "x, y = [-1, 0, 1, 2, 3, 4], [1,-1, 1, -1, 1, -1]"
   ]
  },
  {
   "cell_type": "code",
   "execution_count": 10,
   "metadata": {},
   "outputs": [],
   "source": [
    "import numpy as np"
   ]
  },
  {
   "cell_type": "code",
   "execution_count": 13,
   "metadata": {},
   "outputs": [
    {
     "name": "stdout",
     "output_type": "stream",
     "text": [
      "1\n",
      "2\n",
      "3\n"
     ]
    },
    {
     "data": {
      "text/plain": [
       "[0.4*x + 1.2*(x - 2)**3 + 3.6*(x - 2)**2 - 1.8,\n",
       " 1.6*x - 2.0*(x - 3)**3 - 2.4*(x - 3)**2 - 3.8,\n",
       " -0.8*x + 0.8*(x - 4)**3 + 4.2]"
      ]
     },
     "execution_count": 13,
     "metadata": {},
     "output_type": "execute_result"
    }
   ],
   "source": [
    "function(x, y)"
   ]
  },
  {
   "cell_type": "code",
   "execution_count": 54,
   "metadata": {},
   "outputs": [],
   "source": [
    "def plot_spline(x, y, spline_functions):\n",
    "    # Create a continuous x-range for plotting the splines\n",
    "    x_vals = np.linspace(min(x), max(x), 500)\n",
    "    \n",
    "\n",
    "    # Plot the original data points\n",
    "    plt.scatter(x, y, color='black')\n",
    "\n",
    "    # Evaluate the splines at the continuous x-values\n",
    "    for i, spline in enumerate(spline_functions):\n",
    "        # Define the symbolic variable used in the spline (x)\n",
    "        sx = sympy.symbols('x')\n",
    "        \n",
    "        # Substitute values into the spline function\n",
    "        spline_func = sympy.lambdify(sx, spline, \"numpy\")\n",
    "        \n",
    "        # Plot the spline for the current interval\n",
    "        interval_x = np.linspace(x[i], x[i+1], 100)\n",
    "        \n",
    "        plt.plot(interval_x, spline_func(interval_x), label=f'Spline {i+1}', color='blue')\n",
    "\n",
    "    # Add labels and title\n",
    "    plt.xlabel('x')\n",
    "    plt.ylabel('y')\n",
    "    plt.show()"
   ]
  },
  {
   "cell_type": "code",
   "execution_count": 56,
   "metadata": {},
   "outputs": [
    {
     "name": "stdout",
     "output_type": "stream",
     "text": [
      "1\n",
      "2\n",
      "3\n",
      "4\n",
      "5\n"
     ]
    },
    {
     "data": {
      "text/plain": [
       "[1.45454545454545*x**3 + 4.36363636363636*x**2 + 0.909090909090909*x - 1,\n",
       " -0.181818181818182*x - 3.27272727272727*(x - 1)**3 - 5.45454545454545*(x - 1)**2 + 1.18181818181818,\n",
       " -0.181818181818182*x + 3.63636363636364*(x - 2)**3 + 5.45454545454545*(x - 2)**2 - 0.636363636363636,\n",
       " 0.909090909090909*x - 3.27272727272727*(x - 3)**3 - 4.36363636363636*(x - 3)**2 - 1.72727272727273,\n",
       " -3.45454545454545*x + 1.45454545454545*(x - 4)**3 + 12.8181818181818]"
      ]
     },
     "execution_count": 56,
     "metadata": {},
     "output_type": "execute_result"
    }
   ],
   "source": [
    "import matplotlib.pyplot as plt\n",
    "function(x, y)"
   ]
  }
 ],
 "metadata": {
  "kernelspec": {
   "display_name": "Python 3",
   "language": "python",
   "name": "python3"
  },
  "language_info": {
   "codemirror_mode": {
    "name": "ipython",
    "version": 3
   },
   "file_extension": ".py",
   "mimetype": "text/x-python",
   "name": "python",
   "nbconvert_exporter": "python",
   "pygments_lexer": "ipython3",
   "version": "3.12.7"
  }
 },
 "nbformat": 4,
 "nbformat_minor": 2
}
